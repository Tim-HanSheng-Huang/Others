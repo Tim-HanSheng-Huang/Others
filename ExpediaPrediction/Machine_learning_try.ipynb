{
 "cells": [
  {
   "cell_type": "code",
   "execution_count": 1,
   "metadata": {},
   "outputs": [],
   "source": [
    "import datetime\n",
    "import pandas as pd\n",
    "import numpy as np\n",
    "import matplotlib.pyplot as plt\n",
    "%matplotlib inline\n",
    "\n",
    "from sklearn.ensemble import RandomForestClassifier\n",
    "from sklearn.linear_model import SGDClassifier\n",
    "from sklearn.linear_model import LogisticRegression\n",
    "from sklearn.svm import SVC\n",
    "from sklearn import model_selection, naive_bayes, svm\n",
    "\n",
    "#from sklearn.cross_validation import train_test_split\n",
    "#import ml_metrics as metrics"
   ]
  },
  {
   "cell_type": "code",
   "execution_count": 2,
   "metadata": {},
   "outputs": [],
   "source": [
    "#留下重要的變數才讀進來\n",
    "dtype={'is_booking':bool,\n",
    "        'srch_destination_id':np.str_,\n",
    "        'hotel_cluster' : np.str_,\n",
    "        'orig_destination_distance':np.float64,\n",
    "        'date_time':np.str_,\n",
    "        'hotel_market':np.str_}"
   ]
  },
  {
   "cell_type": "code",
   "execution_count": 3,
   "metadata": {},
   "outputs": [],
   "source": [
    "df0 = pd.read_csv('C://Users//user//Big_Data_Class//final_project//train.csv',dtype=dtype, usecols=dtype, parse_dates=['date_time'] ,sep=',')"
   ]
  },
  {
   "cell_type": "code",
   "execution_count": 4,
   "metadata": {},
   "outputs": [],
   "source": [
    "#隨機抽取小樣本\n",
    "df0 = df0.sample(frac=0.01, random_state=123)"
   ]
  },
  {
   "cell_type": "code",
   "execution_count": 5,
   "metadata": {},
   "outputs": [
    {
     "data": {
      "text/html": [
       "<div>\n",
       "<style scoped>\n",
       "    .dataframe tbody tr th:only-of-type {\n",
       "        vertical-align: middle;\n",
       "    }\n",
       "\n",
       "    .dataframe tbody tr th {\n",
       "        vertical-align: top;\n",
       "    }\n",
       "\n",
       "    .dataframe thead th {\n",
       "        text-align: right;\n",
       "    }\n",
       "</style>\n",
       "<table border=\"1\" class=\"dataframe\">\n",
       "  <thead>\n",
       "    <tr style=\"text-align: right;\">\n",
       "      <th></th>\n",
       "      <th>date_time</th>\n",
       "      <th>orig_destination_distance</th>\n",
       "      <th>srch_destination_id</th>\n",
       "      <th>is_booking</th>\n",
       "      <th>hotel_market</th>\n",
       "      <th>hotel_cluster</th>\n",
       "    </tr>\n",
       "  </thead>\n",
       "  <tbody>\n",
       "    <tr>\n",
       "      <th>14927394</th>\n",
       "      <td>2013-07-25 17:24:15</td>\n",
       "      <td>0.1203</td>\n",
       "      <td>5465</td>\n",
       "      <td>True</td>\n",
       "      <td>1230</td>\n",
       "      <td>47</td>\n",
       "    </tr>\n",
       "    <tr>\n",
       "      <th>4018254</th>\n",
       "      <td>2014-11-02 14:49:44</td>\n",
       "      <td>108.2251</td>\n",
       "      <td>11620</td>\n",
       "      <td>False</td>\n",
       "      <td>369</td>\n",
       "      <td>83</td>\n",
       "    </tr>\n",
       "    <tr>\n",
       "      <th>34277084</th>\n",
       "      <td>2014-05-22 12:50:53</td>\n",
       "      <td>763.1428</td>\n",
       "      <td>23808</td>\n",
       "      <td>False</td>\n",
       "      <td>1144</td>\n",
       "      <td>93</td>\n",
       "    </tr>\n",
       "    <tr>\n",
       "      <th>17943701</th>\n",
       "      <td>2014-02-26 14:01:02</td>\n",
       "      <td>1328.8847</td>\n",
       "      <td>40658</td>\n",
       "      <td>False</td>\n",
       "      <td>930</td>\n",
       "      <td>48</td>\n",
       "    </tr>\n",
       "    <tr>\n",
       "      <th>33983050</th>\n",
       "      <td>2014-08-13 11:15:40</td>\n",
       "      <td>278.0790</td>\n",
       "      <td>8230</td>\n",
       "      <td>False</td>\n",
       "      <td>637</td>\n",
       "      <td>33</td>\n",
       "    </tr>\n",
       "  </tbody>\n",
       "</table>\n",
       "</div>"
      ],
      "text/plain": [
       "                   date_time  orig_destination_distance srch_destination_id  \\\n",
       "14927394 2013-07-25 17:24:15                     0.1203                5465   \n",
       "4018254  2014-11-02 14:49:44                   108.2251               11620   \n",
       "34277084 2014-05-22 12:50:53                   763.1428               23808   \n",
       "17943701 2014-02-26 14:01:02                  1328.8847               40658   \n",
       "33983050 2014-08-13 11:15:40                   278.0790                8230   \n",
       "\n",
       "          is_booking hotel_market hotel_cluster  \n",
       "14927394        True         1230            47  \n",
       "4018254        False          369            83  \n",
       "34277084       False         1144            93  \n",
       "17943701       False          930            48  \n",
       "33983050       False          637            33  "
      ]
     },
     "execution_count": 5,
     "metadata": {},
     "output_type": "execute_result"
    }
   ],
   "source": [
    "df0.head()"
   ]
  },
  {
   "cell_type": "code",
   "execution_count": 6,
   "metadata": {},
   "outputs": [
    {
     "data": {
      "text/plain": [
       "(23815, 7)"
      ]
     },
     "execution_count": 6,
     "metadata": {},
     "output_type": "execute_result"
    }
   ],
   "source": [
    "df0['year']=df0['date_time'].dt.year\n",
    "train = df0.query('is_booking==True')\n",
    "train.shape"
   ]
  },
  {
   "cell_type": "code",
   "execution_count": 7,
   "metadata": {},
   "outputs": [
    {
     "data": {
      "text/html": [
       "<div>\n",
       "<style scoped>\n",
       "    .dataframe tbody tr th:only-of-type {\n",
       "        vertical-align: middle;\n",
       "    }\n",
       "\n",
       "    .dataframe tbody tr th {\n",
       "        vertical-align: top;\n",
       "    }\n",
       "\n",
       "    .dataframe thead th {\n",
       "        text-align: right;\n",
       "    }\n",
       "</style>\n",
       "<table border=\"1\" class=\"dataframe\">\n",
       "  <thead>\n",
       "    <tr style=\"text-align: right;\">\n",
       "      <th></th>\n",
       "      <th>date_time</th>\n",
       "      <th>orig_destination_distance</th>\n",
       "      <th>srch_destination_id</th>\n",
       "      <th>is_booking</th>\n",
       "      <th>hotel_market</th>\n",
       "      <th>hotel_cluster</th>\n",
       "      <th>year</th>\n",
       "    </tr>\n",
       "  </thead>\n",
       "  <tbody>\n",
       "    <tr>\n",
       "      <th>3938948</th>\n",
       "      <td>2014-05-19 12:51:11</td>\n",
       "      <td>NaN</td>\n",
       "      <td>8244</td>\n",
       "      <td>True</td>\n",
       "      <td>643</td>\n",
       "      <td>72</td>\n",
       "      <td>2014</td>\n",
       "    </tr>\n",
       "    <tr>\n",
       "      <th>31547812</th>\n",
       "      <td>2014-06-21 15:14:22</td>\n",
       "      <td>NaN</td>\n",
       "      <td>25259</td>\n",
       "      <td>True</td>\n",
       "      <td>440</td>\n",
       "      <td>35</td>\n",
       "      <td>2014</td>\n",
       "    </tr>\n",
       "    <tr>\n",
       "      <th>2597536</th>\n",
       "      <td>2014-05-21 11:49:49</td>\n",
       "      <td>1134.0311</td>\n",
       "      <td>5423</td>\n",
       "      <td>True</td>\n",
       "      <td>991</td>\n",
       "      <td>8</td>\n",
       "      <td>2014</td>\n",
       "    </tr>\n",
       "    <tr>\n",
       "      <th>15680592</th>\n",
       "      <td>2013-01-30 13:05:31</td>\n",
       "      <td>1685.5062</td>\n",
       "      <td>8287</td>\n",
       "      <td>True</td>\n",
       "      <td>397</td>\n",
       "      <td>50</td>\n",
       "      <td>2013</td>\n",
       "    </tr>\n",
       "    <tr>\n",
       "      <th>20056371</th>\n",
       "      <td>2014-08-09 09:53:03</td>\n",
       "      <td>4493.5675</td>\n",
       "      <td>8808</td>\n",
       "      <td>True</td>\n",
       "      <td>28</td>\n",
       "      <td>36</td>\n",
       "      <td>2014</td>\n",
       "    </tr>\n",
       "  </tbody>\n",
       "</table>\n",
       "</div>"
      ],
      "text/plain": [
       "                   date_time  orig_destination_distance srch_destination_id  \\\n",
       "3938948  2014-05-19 12:51:11                        NaN                8244   \n",
       "31547812 2014-06-21 15:14:22                        NaN               25259   \n",
       "2597536  2014-05-21 11:49:49                  1134.0311                5423   \n",
       "15680592 2013-01-30 13:05:31                  1685.5062                8287   \n",
       "20056371 2014-08-09 09:53:03                  4493.5675                8808   \n",
       "\n",
       "          is_booking hotel_market hotel_cluster  year  \n",
       "3938948         True          643            72  2014  \n",
       "31547812        True          440            35  2014  \n",
       "2597536         True          991             8  2014  \n",
       "15680592        True          397            50  2013  \n",
       "20056371        True           28            36  2014  "
      ]
     },
     "execution_count": 7,
     "metadata": {},
     "output_type": "execute_result"
    }
   ],
   "source": [
    "train.head()"
   ]
  },
  {
   "cell_type": "code",
   "execution_count": 8,
   "metadata": {},
   "outputs": [
    {
     "data": {
      "text/plain": [
       "date_time                       0\n",
       "orig_destination_distance    8132\n",
       "srch_destination_id             0\n",
       "is_booking                      0\n",
       "hotel_market                    0\n",
       "hotel_cluster                   0\n",
       "year                            0\n",
       "dtype: int64"
      ]
     },
     "execution_count": 8,
     "metadata": {},
     "output_type": "execute_result"
    }
   ],
   "source": [
    "train.isnull().sum(axis=0)"
   ]
  },
  {
   "cell_type": "code",
   "execution_count": 11,
   "metadata": {},
   "outputs": [],
   "source": [
    "#填遺漏值\n",
    "\n",
    "m=train.orig_destination_distance.mean()\n",
    "train['orig_destination_distance']=train.orig_destination_distance.fillna(m)\n",
    "train.fillna(-1,inplace=True)"
   ]
  },
  {
   "cell_type": "code",
   "execution_count": 14,
   "metadata": {},
   "outputs": [],
   "source": [
    "#把不需要的欄位拿掉\n",
    "y=train['hotel_cluster']\n",
    "X=train.drop(['hotel_cluster','is_booking','year'],axis=1)"
   ]
  },
  {
   "cell_type": "code",
   "execution_count": 16,
   "metadata": {},
   "outputs": [
    {
     "data": {
      "text/plain": [
       "((23815,), (23815, 3))"
      ]
     },
     "execution_count": 16,
     "metadata": {},
     "output_type": "execute_result"
    }
   ],
   "source": [
    "y.shape,X.shape"
   ]
  },
  {
   "cell_type": "code",
   "execution_count": 17,
   "metadata": {},
   "outputs": [
    {
     "data": {
      "text/plain": [
       "100"
      ]
     },
     "execution_count": 17,
     "metadata": {},
     "output_type": "execute_result"
    }
   ],
   "source": [
    "y.nunique()"
   ]
  },
  {
   "cell_type": "code",
   "execution_count": 18,
   "metadata": {},
   "outputs": [],
   "source": [
    "from sklearn.model_selection import train_test_split\n",
    "X_train, X_test, y_train, y_test = train_test_split(X,y, test_size=0.2)"
   ]
  },
  {
   "cell_type": "code",
   "execution_count": 19,
   "metadata": {},
   "outputs": [
    {
     "data": {
      "text/html": [
       "<div>\n",
       "<style scoped>\n",
       "    .dataframe tbody tr th:only-of-type {\n",
       "        vertical-align: middle;\n",
       "    }\n",
       "\n",
       "    .dataframe tbody tr th {\n",
       "        vertical-align: top;\n",
       "    }\n",
       "\n",
       "    .dataframe thead th {\n",
       "        text-align: right;\n",
       "    }\n",
       "</style>\n",
       "<table border=\"1\" class=\"dataframe\">\n",
       "  <thead>\n",
       "    <tr style=\"text-align: right;\">\n",
       "      <th></th>\n",
       "      <th>orig_destination_distance</th>\n",
       "      <th>srch_destination_id</th>\n",
       "      <th>hotel_market</th>\n",
       "    </tr>\n",
       "  </thead>\n",
       "  <tbody>\n",
       "    <tr>\n",
       "      <th>24669578</th>\n",
       "      <td>751.18480</td>\n",
       "      <td>1391</td>\n",
       "      <td>1203</td>\n",
       "    </tr>\n",
       "    <tr>\n",
       "      <th>21332923</th>\n",
       "      <td>1675.99718</td>\n",
       "      <td>23053</td>\n",
       "      <td>814</td>\n",
       "    </tr>\n",
       "    <tr>\n",
       "      <th>6991095</th>\n",
       "      <td>1675.99718</td>\n",
       "      <td>5344</td>\n",
       "      <td>689</td>\n",
       "    </tr>\n",
       "    <tr>\n",
       "      <th>16862156</th>\n",
       "      <td>1675.99718</td>\n",
       "      <td>8817</td>\n",
       "      <td>132</td>\n",
       "    </tr>\n",
       "    <tr>\n",
       "      <th>20286500</th>\n",
       "      <td>101.32320</td>\n",
       "      <td>600</td>\n",
       "      <td>1030</td>\n",
       "    </tr>\n",
       "    <tr>\n",
       "      <th>...</th>\n",
       "      <td>...</td>\n",
       "      <td>...</td>\n",
       "      <td>...</td>\n",
       "    </tr>\n",
       "    <tr>\n",
       "      <th>7121359</th>\n",
       "      <td>5936.24220</td>\n",
       "      <td>12749</td>\n",
       "      <td>47</td>\n",
       "    </tr>\n",
       "    <tr>\n",
       "      <th>21754083</th>\n",
       "      <td>1855.97460</td>\n",
       "      <td>42630</td>\n",
       "      <td>637</td>\n",
       "    </tr>\n",
       "    <tr>\n",
       "      <th>34421735</th>\n",
       "      <td>172.35340</td>\n",
       "      <td>12390</td>\n",
       "      <td>688</td>\n",
       "    </tr>\n",
       "    <tr>\n",
       "      <th>20341904</th>\n",
       "      <td>1675.99718</td>\n",
       "      <td>8259</td>\n",
       "      <td>121</td>\n",
       "    </tr>\n",
       "    <tr>\n",
       "      <th>5926729</th>\n",
       "      <td>1675.99718</td>\n",
       "      <td>8746</td>\n",
       "      <td>29</td>\n",
       "    </tr>\n",
       "  </tbody>\n",
       "</table>\n",
       "<p>4763 rows × 3 columns</p>\n",
       "</div>"
      ],
      "text/plain": [
       "          orig_destination_distance srch_destination_id hotel_market\n",
       "24669578                  751.18480                1391         1203\n",
       "21332923                 1675.99718               23053          814\n",
       "6991095                  1675.99718                5344          689\n",
       "16862156                 1675.99718                8817          132\n",
       "20286500                  101.32320                 600         1030\n",
       "...                             ...                 ...          ...\n",
       "7121359                  5936.24220               12749           47\n",
       "21754083                 1855.97460               42630          637\n",
       "34421735                  172.35340               12390          688\n",
       "20341904                 1675.99718                8259          121\n",
       "5926729                  1675.99718                8746           29\n",
       "\n",
       "[4763 rows x 3 columns]"
      ]
     },
     "execution_count": 19,
     "metadata": {},
     "output_type": "execute_result"
    }
   ],
   "source": [
    "X_test"
   ]
  },
  {
   "cell_type": "code",
   "execution_count": 20,
   "metadata": {},
   "outputs": [],
   "source": [
    "dtype1={\n",
    "        'srch_destination_id':np.str_,\n",
    "        'orig_destination_distance':np.float64,\n",
    "        'date_time':np.str_,\n",
    "        'hotel_market':np.str_}"
   ]
  },
  {
   "cell_type": "code",
   "execution_count": 21,
   "metadata": {},
   "outputs": [],
   "source": [
    "test = pd.read_csv('C://Users//user//Big_Data_Class//final_project//test.csv',dtype=dtype1,usecols=dtype1,parse_dates=['date_time'] ,sep=',')\n",
    "test['month']=test['date_time'].dt.month\n",
    "test.fillna(-1,inplace=True)"
   ]
  },
  {
   "cell_type": "code",
   "execution_count": 22,
   "metadata": {},
   "outputs": [
    {
     "data": {
      "text/plain": [
       "((2528243, 5), (23815, 7))"
      ]
     },
     "execution_count": 22,
     "metadata": {},
     "output_type": "execute_result"
    }
   ],
   "source": [
    "#test1.shape, train.shape\n",
    "test.shape, train.shape"
   ]
  },
  {
   "cell_type": "code",
   "execution_count": 25,
   "metadata": {},
   "outputs": [
    {
     "data": {
      "text/plain": [
       "((23815, 3), (2528243, 3))"
      ]
     },
     "execution_count": 25,
     "metadata": {},
     "output_type": "execute_result"
    }
   ],
   "source": [
    "# train1.shape, test1.shape\n",
    "train1.shape, test.shape"
   ]
  },
  {
   "cell_type": "code",
   "execution_count": 26,
   "metadata": {},
   "outputs": [
    {
     "data": {
      "text/plain": [
       "orig_destination_distance    float64\n",
       "srch_destination_id           object\n",
       "hotel_market                  object\n",
       "dtype: object"
      ]
     },
     "execution_count": 26,
     "metadata": {},
     "output_type": "execute_result"
    }
   ],
   "source": [
    "train1.dtypes"
   ]
  },
  {
   "cell_type": "code",
   "execution_count": 27,
   "metadata": {},
   "outputs": [],
   "source": [
    "categorical_features_indices = np.where(X.dtypes != np.float)[0]"
   ]
  },
  {
   "cell_type": "code",
   "execution_count": 28,
   "metadata": {},
   "outputs": [
    {
     "name": "stdout",
     "output_type": "stream",
     "text": [
      "0:\tlearn: 0.0670166\ttest: 0.0718035\tbest: 0.0718035 (0)\ttotal: 16.1s\tremaining: 2m 25s\n",
      "1:\tlearn: 0.0754986\ttest: 0.0835608\tbest: 0.0835608 (1)\ttotal: 33.9s\tremaining: 2m 15s\n",
      "2:\tlearn: 0.0747848\ttest: 0.0810414\tbest: 0.0835608 (1)\ttotal: 47.5s\tremaining: 1m 50s\n",
      "3:\tlearn: 0.0765064\ttest: 0.0787319\tbest: 0.0835608 (1)\ttotal: 1m 1s\tremaining: 1m 31s\n",
      "4:\tlearn: 0.0808314\ttest: 0.0852404\tbest: 0.0852404 (4)\ttotal: 1m 13s\tremaining: 1m 13s\n",
      "5:\tlearn: 0.0852404\ttest: 0.0898593\tbest: 0.0898593 (5)\ttotal: 1m 26s\tremaining: 57.7s\n",
      "6:\tlearn: 0.0812093\ttest: 0.0871300\tbest: 0.0898593 (5)\ttotal: 1m 38s\tremaining: 42.1s\n",
      "7:\tlearn: 0.0827630\ttest: 0.0883897\tbest: 0.0898593 (5)\ttotal: 1m 49s\tremaining: 27.5s\n",
      "8:\tlearn: 0.0834348\ttest: 0.0898593\tbest: 0.0898593 (5)\ttotal: 2m 4s\tremaining: 13.9s\n",
      "9:\tlearn: 0.0864161\ttest: 0.0923788\tbest: 0.0923788 (9)\ttotal: 2m 18s\tremaining: 0us\n",
      "\n",
      "bestTest = 0.09237875289\n",
      "bestIteration = 9\n",
      "\n"
     ]
    },
    {
     "data": {
      "text/plain": [
       "<catboost.core.CatBoostClassifier at 0x1dc5bd91828>"
      ]
     },
     "execution_count": 28,
     "metadata": {},
     "output_type": "execute_result"
    }
   ],
   "source": [
    "#on All training sample\n",
    "from catboost import CatBoostClassifier\n",
    "#rf_all =  RandomForestClassifier(n_estimators=31,max_depth=10,random_state=123)\n",
    "cat_all =  CatBoostClassifier(eval_metric='Accuracy',use_best_model=True,random_seed=42,iterations=20)\n",
    "#rf_all.fit(train1,target)\n",
    "cat_all.fit(train1,target,cat_features=categorical_features_indices,eval_set=(X_test,y_test))"
   ]
  },
  {
   "cell_type": "code",
   "execution_count": 29,
   "metadata": {},
   "outputs": [
    {
     "data": {
      "image/png": "[encoded data removed]",
      "text/plain": [
       "<Figure size 432x288 with 1 Axes>"
      ]
     },
     "metadata": {
      "needs_background": "light"
     },
     "output_type": "display_data"
    }
   ],
   "source": [
    "importance = cat_all.feature_importances_\n",
    "indices=np.argsort(importance)[::-1][:10]\n",
    "importance[indices]\n",
    "\n",
    "plt.barh(range(3), importance[indices],color='r')\n",
    "plt.yticks(range(3),train1.columns[indices])\n",
    "plt.xlabel('Feature Importance')\n",
    "plt.show()"
   ]
  },
  {
   "cell_type": "code",
   "execution_count": 31,
   "metadata": {},
   "outputs": [
    {
     "data": {
      "text/plain": [
       "<catboost.core.CatBoostClassifier at 0x1dc5bd91828>"
      ]
     },
     "execution_count": 31,
     "metadata": {},
     "output_type": "execute_result"
    }
   ],
   "source": [
    "cat_all"
   ]
  },
  {
   "cell_type": "code",
   "execution_count": null,
   "metadata": {},
   "outputs": [],
   "source": [
    "y_pred=rf_all.predict_proba(test) # predict on test dataset"
   ]
  },
  {
   "cell_type": "code",
   "execution_count": null,
   "metadata": {},
   "outputs": [],
   "source": [
    "y_pred"
   ]
  },
  {
   "cell_type": "code",
   "execution_count": 103,
   "metadata": {},
   "outputs": [],
   "source": [
    "#取機率前五高\n",
    "a=y_pred.argsort(axis=1)[:,-5:]"
   ]
  },
  {
   "cell_type": "code",
   "execution_count": null,
   "metadata": {},
   "outputs": [],
   "source": [
    "a"
   ]
  },
  {
   "cell_type": "code",
   "execution_count": null,
   "metadata": {},
   "outputs": [],
   "source": [
    "test=pd.read_csv('C://Users//user//Big_Data_Class//final_project//test.csv')"
   ]
  },
  {
   "cell_type": "code",
   "execution_count": null,
   "metadata": {},
   "outputs": [],
   "source": [
    "write_p = [\" \".join([str(l) for l in p]) for p in a]\n",
    "write_frame = [\"{0},{1}\".format(test[\"id\"][i], write_p[i]) for i in range(len(a))]\n",
    "write_frame = [\"id,hotel_cluster\"] + write_frame"
   ]
  },
  {
   "cell_type": "code",
   "execution_count": null,
   "metadata": {},
   "outputs": [],
   "source": [
    "import os\n",
    "import time\n",
    "with open('submission_'+time.strftime(\"%Y-%m-%d %H%M%S\", time.localtime())+'.csv', \"w+\") as f:\n",
    "    f.write(\"\\n\".join(write_frame))"
   ]
  }
 ],
 "metadata": {
  "kernelspec": {
   "display_name": "Python 3",
   "language": "python",
   "name": "python3"
  },
  "language_info": {
   "codemirror_mode": {
    "name": "ipython",
    "version": 3
   },
   "file_extension": ".py",
   "mimetype": "text/x-python",
   "name": "python",
   "nbconvert_exporter": "python",
   "pygments_lexer": "ipython3",
   "version": "3.8.3"
  }
 },
 "nbformat": 4,
 "nbformat_minor": 1
}
