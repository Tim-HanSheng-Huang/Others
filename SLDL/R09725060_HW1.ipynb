{
 "cells": [
  {
   "cell_type": "markdown",
   "metadata": {},
   "source": [
    "## 統計學習與深度學習 (Fall, 2021) Homework 1"
   ]
  },
  {
   "cell_type": "code",
   "execution_count": 1,
   "metadata": {},
   "outputs": [],
   "source": [
    "import pickle\n",
    "from sklearn import preprocessing\n",
    "import numpy as np\n",
    "import math\n",
    "np.set_printoptions(suppress=True)\n",
    "import matplotlib.pyplot as plt\n",
    "%matplotlib inline\n",
    "\n",
    "# Load data\n",
    "def load_data(doscaling):\n",
    "    with open('msd_data1.pickle', 'rb') as fh1:\n",
    "        msd_data = pickle.load(fh1)\n",
    "    if (doscaling == 1):\n",
    "        xscaler = preprocessing.StandardScaler().fit(msd_data['X_train'])\n",
    "        #standardize feature values\n",
    "        X_train = xscaler.transform(msd_data['X_train'])\n",
    "        X_test = xscaler.transform(msd_data['X_test'])\n",
    "    else:\n",
    "        X_train = msd_data['X_train']\n",
    "        X_test = msd_data['X_test']\n",
    "\n",
    "    Y_train = msd_data['Y_train']\n",
    "    Y_test = msd_data['Y_test']\n",
    "    \n",
    "    return X_train, X_test, Y_train, Y_test"
   ]
  },
  {
   "cell_type": "markdown",
   "metadata": {},
   "source": [
    "### 第一題 [myknn_regressor]\n",
    "#### Q1.1 Create your myknn_regressor based on the skeleton."
   ]
  },
  {
   "cell_type": "code",
   "execution_count": 2,
   "metadata": {},
   "outputs": [],
   "source": [
    "class myknn_regressor():\n",
    "    def __init__(self, n_neighbors = 10, mean_type = \"equal_weight\"):\n",
    "        \"\"\"mean_type can be equal_weight or remove_outliers.\n",
    "                              equal_weight use the same weight for all neighbors.\n",
    "                              remove_outliers remove neighbors out in [Q1 - 1.5 IQR, Q3 + 1.5IQR].\"\"\"\n",
    "        ### Add your code here ###\n",
    "        self.k=n_neighbors\n",
    "        self.X_train=None\n",
    "        self.Y_train=None\n",
    "        \n",
    "        if(mean_type==\"equal_weight\"):\n",
    "            self.mean_type=1\n",
    "        elif(mean_type==\"remove_outliers\"):\n",
    "            self.mean_type=2\n",
    "        else:\n",
    "            print(\"WRONG MEAN TYPE! The mean type was set to 'equal_weight' \")\n",
    "            self.mean_type=1\n",
    "\n",
    "    def fit(self, x_train, y_train):\n",
    "        ### Add your code here ###\n",
    "        self.X_train=x_train\n",
    "        self.Y_train=y_train\n",
    "         \n",
    "\n",
    "    def predict(self, x_test):\n",
    "        \"\"\"use remove_outliers only if k>=10\"\"\"\n",
    "         ### Add your code here ###\n",
    "        y_prediction=np.zeros(len(x_test))\n",
    "        \n",
    "        if (self.k>=10) and (self.mean_type==2):\n",
    "            ## remove_outlier\n",
    "            print(\"Mean Type: Remove Outlier\")\n",
    "            for i in range(len(x_test)):\n",
    "                distance=np.empty(len(self.X_train))\n",
    "                for j in range(len(self.X_train)):\n",
    "                    distance[j]=math.sqrt(np.sum((x_test[i]-self.X_train[j])**2))\n",
    "                distance_sort=np.argsort(distance)\n",
    "                topK_Y=self.Y_train[distance_sort[0:self.k]]\n",
    "                Q1=np.quantile(topK_Y,0.25)\n",
    "                Q2=np.quantile(topK_Y,0.50)\n",
    "                Q3=np.quantile(topK_Y,0.75)\n",
    "                IQR=Q3-Q1\n",
    "                topK_Y_removed=topK_Y[topK_Y>=Q1-1.5*IQR]\n",
    "                topK_Y_removed=topK_Y_removed[topK_Y_removed<=Q3+1.5*IQR]\n",
    "                y_prediction[i]=np.mean(topK_Y_removed)\n",
    "                \n",
    "        else:\n",
    "            ## equal_weight\n",
    "            print(\"Mean Type: Equal Weight\")\n",
    "            for i in range(len(x_test)):\n",
    "                distance=np.empty(len(self.X_train))\n",
    "                for j in range(len(self.X_train)):\n",
    "                    distance[j]=math.sqrt(np.sum((x_test[i]-self.X_train[j])**2))\n",
    "                distance_sort=np.argsort(distance)\n",
    "                topK_Y=self.Y_train[distance_sort[0:self.k]]\n",
    "                y_prediction[i]=np.mean(topK_Y)\n",
    "                \n",
    "        return y_prediction\n",
    "    \n",
    "    def CalRMSE(self, y_pred, y_true):\n",
    "        MSE=np.mean((y_true-y_pred)**2)\n",
    "        RMSE=math.sqrt(MSE)\n",
    "        return MSE,RMSE"
   ]
  },
  {
   "cell_type": "markdown",
   "metadata": {},
   "source": [
    "#### Q1.2 Load data from msd_data1.pickle. You should standardize all feature values to have a zero mean and unit variance before training a KNN model.  Make predictions using $k=20$ and \"equal_weight\" $f$. List the RMSE and the first 20 predictions in the test data. "
   ]
  },
  {
   "cell_type": "code",
   "execution_count": 3,
   "metadata": {},
   "outputs": [
    {
     "name": "stdout",
     "output_type": "stream",
     "text": [
      "Mean Type: Equal Weight\n",
      "First 20 predictions(equal_weight):\n",
      " [1993.35 1993.8  2000.65 1991.5  1992.8  1998.5  1988.1  1991.65 2002.25\n",
      " 2003.   2000.5  1998.65 1995.55 1997.2  1995.05 1997.4  1992.15 2000.45\n",
      " 2003.2  1995.75]\n",
      "RMSE(equal_weight): 10.25126451549596\n"
     ]
    }
   ],
   "source": [
    "X_train, X_test, Y_train, Y_test=load_data(1)\n",
    "\n",
    "# Equal Weight \n",
    "myknn_equal = myknn_regressor(20, \"equal_weight\")\n",
    "myknn_equal.fit(X_train, Y_train)\n",
    "ypred_equal = myknn_equal.predict(X_test)\n",
    "mse_equal,rmse_equal=myknn_equal.CalRMSE(ypred_equal,Y_test)\n",
    "\n",
    "print(\"First 20 predictions(equal_weight):\\n\",ypred_equal[0:20])\n",
    "print(\"RMSE(equal_weight):\",rmse_equal)"
   ]
  },
  {
   "cell_type": "markdown",
   "metadata": {},
   "source": [
    "#### Q1.3 Load data from msd_data1.pickle. Standardized all feature values so that all features have a zero mean and unit variance.  Make predictions using $k=20$ and \"remove_outier\" $f$. List the RMSE and the first 20 predictions in the testing data. "
   ]
  },
  {
   "cell_type": "code",
   "execution_count": 4,
   "metadata": {},
   "outputs": [
    {
     "name": "stdout",
     "output_type": "stream",
     "text": [
      "Mean Type: Remove Outlier\n",
      "First 20 predictions(remove_outlier):\n",
      " [1993.35       1993.8        2000.65       1992.73684211 1992.8\n",
      " 2000.         1988.1        1991.65       2002.25       2003.94736842\n",
      " 2000.5        2000.94444444 1995.55       1997.2        1998.61111111\n",
      " 1997.4        1992.15       2003.83333333 2003.2        1995.75      ]\n",
      "RMSE(remove_outlier): 10.212572466080376\n"
     ]
    }
   ],
   "source": [
    "X_train, X_test, Y_train, Y_test=load_data(1)\n",
    "\n",
    "# Remove Outlier \n",
    "myknn_remove = myknn_regressor(20, \"remove_outliers\")\n",
    "myknn_remove.fit(X_train, Y_train)\n",
    "ypred_remove = myknn_remove.predict(X_test)\n",
    "mse_remove,rmse_remove=myknn_remove.CalRMSE(ypred_remove,Y_test)\n",
    "\n",
    "print(\"First 20 predictions(remove_outlier):\\n\",ypred_remove[0:20])\n",
    "print(\"RMSE(remove_outlier):\",rmse_remove)"
   ]
  },
  {
   "cell_type": "markdown",
   "metadata": {},
   "source": [
    "### 第二題 [Tuning the Hyper-parameter]"
   ]
  },
  {
   "cell_type": "code",
   "execution_count": 5,
   "metadata": {},
   "outputs": [],
   "source": [
    "from sklearn.neighbors import KNeighborsRegressor\n",
    "grid_search=np.array([1, 2, 3, 4, 5, 10, 15, 20, 25, 30, 35, 40, 45, 50, 55, 60, 80, 100, 120, 140, 160, 180, 200])"
   ]
  },
  {
   "cell_type": "code",
   "execution_count": 6,
   "metadata": {},
   "outputs": [
    {
     "name": "stdout",
     "output_type": "stream",
     "text": [
      "RMSE\n",
      " [13.911074724837043, 12.068170946750795, 11.389120864846157, 11.1123354880961, 10.894692897614565, 10.425998912973919, 10.318171959828572, 10.25126451549596, 10.23762722509469, 10.215977156359507, 10.205243203546763, 10.204332770527754, 10.207243171822855, 10.206033712139762, 10.208862384446808, 10.21700262724764, 10.231954198429056, 10.247295947386965, 10.264908458982783, 10.287098382403647, 10.317788599090449, 10.330995620176944, 10.351940397014143]\n"
     ]
    }
   ],
   "source": [
    "# First Case\n",
    "X_train, X_test, Y_train, Y_test=load_data(1)\n",
    "#print(X_train[0])\n",
    "rmse_value_first=[]\n",
    "\n",
    "for i in range(len(grid_search)):\n",
    "    knn = KNeighborsRegressor(n_neighbors=grid_search[i])\n",
    "    knn.fit(X_train, Y_train)\n",
    "    y_pred=knn.predict(X_test)\n",
    "    mse=np.mean((Y_test-y_pred)**2)\n",
    "    rmse=math.sqrt(mse)\n",
    "#     print(\"K=\",grid_search[i],\" RMSE:\",rmse)\n",
    "    rmse_value_first.append(rmse)\n",
    "\n",
    "print(\"RMSE\\n\",rmse_value_first)"
   ]
  },
  {
   "cell_type": "code",
   "execution_count": 7,
   "metadata": {},
   "outputs": [
    {
     "name": "stdout",
     "output_type": "stream",
     "text": [
      "RMSE\n",
      " [14.923638966418345, 12.777499755429464, 12.075674967716129, 11.767805657810635, 11.466392632384432, 11.07746090040493, 10.888979137947995, 10.797788546734928, 10.79007301797969, 10.75026561256701, 10.717738719772289, 10.714437504678756, 10.698494013475852, 10.69110105960404, 10.682608734124413, 10.672535729098724, 10.662907517124493, 10.67701950452466, 10.683139638996407, 10.687017556442052, 10.691630026202155, 10.69071978380711, 10.698853374700175]\n"
     ]
    }
   ],
   "source": [
    "# Second Case\n",
    "X_train, X_test, Y_train, Y_test=load_data(2)\n",
    "#print(X_train[0])\n",
    "rmse_value_second=[]\n",
    "\n",
    "for i in range(len(grid_search)):\n",
    "    knn = KNeighborsRegressor(n_neighbors=grid_search[i])\n",
    "    knn.fit(X_train, Y_train)\n",
    "    y_pred=knn.predict(X_test)\n",
    "    mse=np.mean((Y_test-y_pred)**2)\n",
    "    rmse=math.sqrt(mse)\n",
    "#     print(\"K=\",grid_search[i],\" RMSE:\",rmse)\n",
    "    rmse_value_second.append(rmse)\n",
    "\n",
    "print(\"RMSE\\n\",rmse_value_second)"
   ]
  },
  {
   "cell_type": "code",
   "execution_count": 8,
   "metadata": {},
   "outputs": [
    {
     "name": "stdout",
     "output_type": "stream",
     "text": [
      "Mean Type: Equal Weight\n",
      "Mean Type: Equal Weight\n",
      "Mean Type: Equal Weight\n",
      "Mean Type: Equal Weight\n",
      "Mean Type: Equal Weight\n",
      "Mean Type: Remove Outlier\n",
      "Mean Type: Remove Outlier\n",
      "Mean Type: Remove Outlier\n",
      "Mean Type: Remove Outlier\n",
      "Mean Type: Remove Outlier\n",
      "Mean Type: Remove Outlier\n",
      "Mean Type: Remove Outlier\n",
      "Mean Type: Remove Outlier\n",
      "Mean Type: Remove Outlier\n",
      "Mean Type: Remove Outlier\n",
      "Mean Type: Remove Outlier\n",
      "Mean Type: Remove Outlier\n",
      "Mean Type: Remove Outlier\n",
      "Mean Type: Remove Outlier\n",
      "Mean Type: Remove Outlier\n",
      "Mean Type: Remove Outlier\n",
      "Mean Type: Remove Outlier\n",
      "Mean Type: Remove Outlier\n",
      "RMSE\n",
      " [13.911074724837043, 12.068170946750795, 11.389120864846157, 11.1123354880961, 10.894692897614565, 10.468549209697088, 10.293424167991525, 10.212572466080376, 10.19147537897133, 10.132105705172414, 10.109608004792985, 10.093231539122922, 10.080018891479627, 10.08078333324933, 10.059767600751963, 10.073857809066583, 10.063683549276588, 10.064917276737452, 10.067237203620246, 10.090646192390137, 10.115316675702928, 10.124987056716318, 10.146220720227745]\n"
     ]
    }
   ],
   "source": [
    "# Third Case\n",
    "X_train, X_test, Y_train, Y_test=load_data(1)\n",
    "#print(X_train[0])\n",
    "rmse_value_third=[]\n",
    "\n",
    "for i in range(len(grid_search)):\n",
    "    myknn_remove = myknn_regressor(grid_search[i], \"remove_outliers\")\n",
    "    myknn_remove.fit(X_train, Y_train)\n",
    "    ypred_remove=myknn_remove.predict(X_test)\n",
    "    mse_remove,rmse_remove=myknn_remove.CalRMSE(ypred_remove,Y_test)\n",
    "#     print(\"K=\",grid_search[i],\" RMSE:\",rmse_remove)\n",
    "    rmse_value_third.append(rmse_remove)\n",
    "\n",
    "print(\"RMSE\\n\",rmse_value_third)"
   ]
  },
  {
   "cell_type": "code",
   "execution_count": 9,
   "metadata": {},
   "outputs": [
    {
     "data": {
      "image/png": "[encoded data removed]",
      "text/plain": [
       "<Figure size 432x288 with 1 Axes>"
      ]
     },
     "metadata": {
      "needs_background": "light"
     },
     "output_type": "display_data"
    }
   ],
   "source": [
    "import matplotlib.pyplot as plt\n",
    "%matplotlib inline\n",
    "\n",
    "plt.plot(grid_search,rmse_value_first,label='sklearn+standardized')\n",
    "plt.plot(grid_search,rmse_value_second,label='sklearn+unstandardized')\n",
    "plt.plot(grid_search,rmse_value_third,label='myknn_regressor+standardized')\n",
    "plt.ylabel(\"RMSE\")\n",
    "plt.xlabel(\"K-Value\")\n",
    "plt.legend()\n",
    "\n",
    "plt.show()"
   ]
  },
  {
   "cell_type": "markdown",
   "metadata": {},
   "source": [
    "說明：\n",
    "1. 比較standardized與unstandardized的資料，發現standardized的資料在RMSE的表現會比較好，推測有經過standardize的步驟可以讓各feature有相同的尺度，使最終表現較好\n",
    "2. 不論是哪一種資料，K值從0開始增大，RMSE也隨著變小，直到K值大約落在25至60這區間時，RMSE表現最小，接著K值再增大則是會讓RMSE跟著增大。因此，取K值預測時應該取在25至60這區間左右。"
   ]
  },
  {
   "cell_type": "markdown",
   "metadata": {},
   "source": [
    "### 第三題 [Lasso Regression]"
   ]
  },
  {
   "cell_type": "markdown",
   "metadata": {},
   "source": [
    "#### Q3.1 基於本題給的$L$，推導新的Coordinate Descent with Soft Thresholding公式"
   ]
  },
  {
   "cell_type": "markdown",
   "metadata": {},
   "source": [
    "原式：  \n",
    "$L = \\frac{1}{2n} \\sum_{i=1}^n (y_i - \\mathbf{w}^T \\mathbf{x}_i - w_0)^2 + \\lambda [\\sum_{j=1}^{M} |w_j|]$  \n",
    "  \n",
    "  \n",
    "推導結果：  \n",
    "$\\hspace{0.5cm}$對於 $w_0$:   \n",
    "$\\hspace{0.5cm}$$\\hspace{0.5cm}$$ w_0 = \\frac{\\sum_{i=1}^{n} \\hspace{0.1cm} (y_i - \\mathbf{w}^T \\mathbf{x}_i)}{n} $\n",
    "  \n",
    "$\\hspace{0.5cm}$對於 $\\mathbf{w}_0 $ 以外的feature weight:   \n",
    "$\\hspace{0.5cm}$$\\hspace{0.5cm}$令 $ \\mathbf{w\\star}_j = \\frac{\\sum_{i=1}^n \\hspace{0.1cm}(y_i - \\mathbf{w}^T_{-j} \\hspace{0.1cm} \\mathbf{x}_{i,-j} \\hspace{0.2cm} - \\hspace{0.1cm}w_0 \\hspace{0.1cm} )(\\mathbf{x}_{i,j}\\hspace{0.1cm})}{\\sum_{i=1}^n \\mathbf{x}_{ij}^2} $  \n",
    "\n",
    "$\\hspace{0.5cm}$$\\hspace{0.5cm}$如果 $ \\mathbf{w\\star}_j  - \\frac{n\\lambda}{\\sum_{i=1}^n \\mathbf{x}_{ij}^2} > 0 $，則 $ \\mathbf{w}_j = \\mathbf{w\\star}_j  - \\frac{n\\lambda}{\\sum_{i=1}^n \\mathbf{x}_{ij}^2} $  \n",
    "$\\hspace{0.5cm}$$\\hspace{0.5cm}$如果 $ \\mathbf{w\\star}_j  + \\frac{n\\lambda}{\\sum_{i=1}^n \\mathbf{x}_{ij}^2} < 0 $，則 $ \\mathbf{w}_j = \\mathbf{w\\star}_j  + \\frac{n\\lambda}{\\sum_{i=1}^n \\mathbf{x}_{ij}^2} $  \n",
    "$\\hspace{0.5cm}$$\\hspace{0.5cm}$Otherewise，則為0"
   ]
  },
  {
   "cell_type": "markdown",
   "metadata": {},
   "source": [
    "#### Q3.2 使用給定個骨架建構你的mylasso"
   ]
  },
  {
   "cell_type": "code",
   "execution_count": 10,
   "metadata": {},
   "outputs": [],
   "source": [
    "class mylasso():\n",
    "    def __init__(self, lamcoef = 0.1, max_iter=1000, tol=1e-6, const_regu = False):\n",
    "        \"\"\"lamcoef: the regularization coefficient\n",
    "           max_iter: maximum number of iteration for model training\n",
    "           tol: tolerance for the stopping criteria for model training\n",
    "           const_regu: whether the constant term should be regularized, default to False\n",
    "           \"\"\"\n",
    "        ### Add your code here ###\n",
    "        self.lamcoef=lamcoef\n",
    "        self.max_iter=max_iter\n",
    "        self.tol=tol\n",
    "        self.const_regu=False\n",
    "        self.X_train=None\n",
    "        self.Y_train=None\n",
    "        self.weight=None\n",
    "        self.training_loss=None\n",
    "        self.const_regu=const_regu\n",
    "\n",
    "    def fit(self, x_train, y_train, winit = \"ridge\", keep_traindata = True, verbose = False):\n",
    "        \"\"\"Fit a Lasso model\n",
    "           x_train: a numpy matrix that contains training features\n",
    "           y_train: a numpy matrix that contains the label\n",
    "           winit: how weights are initialized, default to \"ridge\", ridge regression\n",
    "           keep_traindata: whether the object is going to keep training data after the training process completed\n",
    "           verbose: output a lot of message\"\"\"\n",
    "        ### Add your code here ###\n",
    "        \n",
    "        x_train=np.c_[np.ones(len(x_train)),x_train]\n",
    "        \n",
    "        self.X_train=x_train\n",
    "        self.Y_train=y_train\n",
    "        lamcoef=self.lamcoef\n",
    "        \n",
    "        n,m=self.X_train.shape\n",
    "            \n",
    "        \n",
    "        if winit=='linear': # linear regression weights as initial weights\n",
    "            w_lin=np.dot(np.dot(np.linalg.inv(np.dot(self.X_train.T,self.X_train)),self.X_train.T),self.Y_train)\n",
    "            w_current=w_lin.copy()\n",
    "        else: # ridge regression weights as initial weights\n",
    "            I=np.identity(m)\n",
    "            w_ridge=np.dot(np.dot(np.linalg.inv(np.dot(self.X_train.T, self.X_train) + lamcoef * I), self.X_train.T), self.Y_train)\n",
    "            w_current=w_ridge.copy()\n",
    "        \n",
    "        w_small=w_current.copy()\n",
    "        \n",
    "        tmp_dif=self.Y_train-np.dot(w_current,self.X_train.T)\n",
    "        \n",
    "        if self.const_regu:  # L'\n",
    "            last_loss=np.dot(tmp_dif,tmp_dif.T)/(2*n)+lamcoef*np.sum(np.absolute(w_current))\n",
    "        else:  # L\n",
    "            last_loss=np.dot(tmp_dif,tmp_dif.T)/(2*n)+lamcoef*np.sum(np.absolute(w_current[1:]))\n",
    "        loss_small=last_loss\n",
    "        count=0\n",
    "        while(count<self.max_iter):\n",
    "            \n",
    "            if self.const_regu: # L'\n",
    "                for j in range(len(w_current)):\n",
    "                    deletedX=np.delete(self.X_train,j,axis=1)\n",
    "                    deletedW=np.delete(w_current,j,axis=0)    \n",
    "                    \n",
    "                    if j==0:\n",
    "                        Wj_Star=np.sum(self.Y_train-np.dot(deletedW,deletedX.T))/n\n",
    "                        if Wj_Star-lamcoef > 0:\n",
    "                            w_current[j]=Wj_Star-lamcoef\n",
    "                        elif Wj_Star+lamcoef < 0:\n",
    "                            w_current[j]=Wj_Star+lamcoef\n",
    "                        else:\n",
    "                            w_current[j]=0\n",
    "                            \n",
    "                    else:\n",
    "                        Wj_Star=np.dot(self.Y_train-np.dot(deletedW,deletedX.T),self.X_train[:,j])/(np.dot(self.X_train[:,j],self.X_train[:,j].T))\n",
    "                        if Wj_Star-(n*lamcoef/(np.dot(self.X_train[:,j],self.X_train[:,j].T))) > 0:\n",
    "                            w_current[j]=Wj_Star-(n*lamcoef/(np.dot(self.X_train[:,j],self.X_train[:,j].T)))\n",
    "                        elif Wj_Star+(n*lamcoef/(np.dot(self.X_train[:,j],self.X_train[:,j].T))) < 0:\n",
    "                            w_current[j]=Wj_Star+(n*lamcoef/(np.dot(self.X_train[:,j],self.X_train[:,j].T)))\n",
    "                        else:\n",
    "                            w_current[j]=0\n",
    "            else: # L\n",
    "                for j in range(len(w_current)):\n",
    "                    deletedX=np.delete(self.X_train,j,axis=1)\n",
    "                    deletedW=np.delete(w_current,j,axis=0)  \n",
    "                    \n",
    "                    if j==0:\n",
    "                        w_current[j]=np.sum(self.Y_train-np.dot(deletedW,deletedX.T))/n\n",
    "                    else:\n",
    "                        Wj_Star=np.dot(self.Y_train-np.dot(deletedW,deletedX.T),self.X_train[:,j])/(np.dot(self.X_train[:,j],self.X_train[:,j].T))\n",
    "                        if Wj_Star-(n*lamcoef/(np.dot(self.X_train[:,j],self.X_train[:,j].T))) > 0:\n",
    "                            w_current[j]=Wj_Star-(n*lamcoef/(np.dot(self.X_train[:,j],self.X_train[:,j].T)))\n",
    "                        elif Wj_Star+(n*lamcoef/(np.dot(self.X_train[:,j],self.X_train[:,j].T))) < 0:\n",
    "                            w_current[j]=Wj_Star+(n*lamcoef/(np.dot(self.X_train[:,j],self.X_train[:,j].T)))\n",
    "                        else:\n",
    "                            w_current[j]=0\n",
    "\n",
    "            tmp_dif=self.Y_train-np.dot(w_current,self.X_train.T)\n",
    "            if self.const_regu: # L'\n",
    "                cur_loss=np.dot(tmp_dif,tmp_dif.T)/(2*n)+lamcoef*np.sum(np.absolute(w_current))\n",
    "            else: # L\n",
    "                cur_loss=np.dot(tmp_dif,tmp_dif.T)/(2*n)+lamcoef*np.sum(np.absolute(w_current[1:]))\n",
    "#             print(\"SMALL\",loss_small,\"CUR\",cur_loss)\n",
    "\n",
    "            loss_difference=abs(cur_loss-last_loss)\n",
    "            last_loss=cur_loss\n",
    "            \n",
    "            if cur_loss<loss_small:\n",
    "                loss_small=cur_loss\n",
    "                w_small=w_current.copy()\n",
    "            \n",
    "            if loss_difference<self.tol:\n",
    "                break;\n",
    "\n",
    "            count=count+1\n",
    "        \n",
    "        self.weight=w_small\n",
    "        self.training_loss=loss_small\n",
    "        \n",
    "        if (verbose):\n",
    "            print(\"Number of Iterations:\",count)\n",
    "            print(\"Intercept:\",self.weight[0])\n",
    "            print(\"Weight (Exclude Intercept): \\n\",self.weight[1:])\n",
    "            print(\"Training Loss:\",loss_small)\n",
    "            print(\"Number of Non-zero Weights:\",np.count_nonzero(self.weight[1:]))\n",
    "        \n",
    "        if (not keep_traindata):\n",
    "            self.X_train=None\n",
    "            self.Y_train=None\n",
    "        \n",
    "        \n",
    "    def predict(self, x_test):\n",
    "        \"\"\"Make prediction using trained model\"\"\"\n",
    "        ### Add your code here ###\n",
    "        x_test=np.c_[np.ones(len(x_test)),x_test]\n",
    "        y_pred=np.dot(self.weight,x_test.T)\n",
    "        return y_pred\n",
    "    \n",
    "    def CalRMSE(self, y_pred, y_true):\n",
    "        MSE=np.mean((y_true-y_pred)**2)\n",
    "        RMSE=math.sqrt(MSE)\n",
    "        return RMSE\n",
    "    \n",
    "    def CalMAE(self, y_pred, y_true):\n",
    "        return np.mean(np.absolute(y_true-y_pred))\n",
    "    "
   ]
  },
  {
   "cell_type": "markdown",
   "metadata": {},
   "source": [
    "#### Q3.3 載入資料集，並且使用訓練資料計算Lasso Regression的權重，設定lamcoef = 0.1，其他參數使用預設值。列出Training Loss、Root Mean Squared Error (RMSE) in Training Data、Mean Absolute Error (MAE) in Training Data、Intercept (截距項)、Feature Weights (除了截距項的所有權重)、非零權重的個數。為了讓結果容易閱讀，請使用`np.set_printoptions(suppress=True)`關閉Scientific Notation。"
   ]
  },
  {
   "cell_type": "code",
   "execution_count": 11,
   "metadata": {},
   "outputs": [
    {
     "name": "stdout",
     "output_type": "stream",
     "text": [
      "Training Loss: 49.88840410995367\n",
      "RMSE in Training Data: 9.71949908908463\n",
      "MAE in Training Data: 6.980898009625433\n",
      "Intercept: 1998.266\n",
      "Feature Weights: \n",
      " [ 4.6518551  -2.45673153 -1.06195885  0.         -0.34275054 -2.94854329\n",
      "  0.         -0.39970268 -0.42653866  0.         -0.23498651 -0.39491058\n",
      "  0.50307719  0.         -0.34207893  0.61674589  0.15722753  0.43489925\n",
      "  0.43595375  1.12941661  0.40663481  0.          1.77743607  0.\n",
      " -0.16842728  0.07833529  0.66391172  0.01297938  0.15350723  0.\n",
      " -0.21762074 -0.22189107  0.         -0.0027548  -0.01707674 -0.2599464\n",
      "  0.          0.28969362  0.34893387  0.         -0.26112569 -0.14488702\n",
      " -0.00995271  0.03497723 -0.03984338  0.          0.00299383 -0.17804306\n",
      "  0.          0.06494382  0.27076506  0.          0.          0.\n",
      "  0.          0.         -0.63813223  0.23761428 -0.19016387  0.\n",
      " -0.18875525  0.         -0.13590668  0.0612754  -0.26619017  0.\n",
      "  0.          0.         -0.03099184  0.         -0.19276517  0.01221358\n",
      "  0.20735199  0.25118247  0.12313494  0.          0.         -0.52945662\n",
      "  0.          0.          0.17859187  0.02408561  0.25291058  0.19360205\n",
      "  0.37064854  0.          0.         -0.29169753  0.          0.        ]\n",
      "Number of Non-zero Feature Weights: 59\n"
     ]
    }
   ],
   "source": [
    "X_train, X_test, Y_train, Y_test=load_data(1)\n",
    "\n",
    "mlo=mylasso(lamcoef=0.1)\n",
    "mlo.fit(X_train, Y_train)\n",
    "\n",
    "ypred_train=mlo.predict(X_train)\n",
    "rmse_train=mlo.CalRMSE(ypred_train,Y_train)\n",
    "mae_train=mlo.CalMAE(ypred_train,Y_train)\n",
    "\n",
    "print(\"Training Loss:\",mlo.training_loss)\n",
    "print(\"RMSE in Training Data:\",rmse_train)\n",
    "print(\"MAE in Training Data:\",mae_train)\n",
    "print(\"Intercept:\",mlo.weight[0])\n",
    "print(\"Feature Weights: \\n\",mlo.weight[1:])\n",
    "print(\"Number of Non-zero Feature Weights:\",np.count_nonzero(mlo.weight[1:]))"
   ]
  },
  {
   "cell_type": "markdown",
   "metadata": {},
   "source": [
    "#### Q3.4 使用上一小題的模型計算測試資料的預測值。列出前五筆資料的預測年分、Test RMSE、Test MAE。"
   ]
  },
  {
   "cell_type": "code",
   "execution_count": 12,
   "metadata": {},
   "outputs": [
    {
     "name": "stdout",
     "output_type": "stream",
     "text": [
      "First five predictions: [1991.93191145 1999.07198637 2001.76293602 1991.30317029 1994.42657933]\n",
      "Test RMSE 9.648414790970712\n",
      "Test MAE 6.9213859614967586\n"
     ]
    }
   ],
   "source": [
    "ypred_test = mlo.predict(X_test)\n",
    "rmse_test=mlo.CalRMSE(ypred_test,Y_test)\n",
    "mae_test=mlo.CalMAE(ypred_test,Y_test)\n",
    "\n",
    "print(\"First five predictions:\", ypred_test[:5])\n",
    "print(\"Test RMSE\", rmse_test)\n",
    "print(\"Test MAE\", mae_test)"
   ]
  },
  {
   "cell_type": "markdown",
   "metadata": {},
   "source": [
    "#### Q3.5 使用下面的$\\lambda$訓練模型: 0.0001, 0.0005, 0.001, 0.005, 0.01, 0.05, 0.1, 0.5, 1, 2。記錄每一個$\\lambda$的Training Loss、Number of Nonzero Weights、Average Weight Size (Mean of Absolute Weight)、Training RMSE、Test RMSE。將所有的結果列表、畫折線圖、並寫下你對結果的觀察。"
   ]
  },
  {
   "cell_type": "code",
   "execution_count": 13,
   "metadata": {},
   "outputs": [
    {
     "name": "stdout",
     "output_type": "stream",
     "text": [
      "lamcoef: 0.0001\n",
      "lamcoef: 0.0005\n",
      "lamcoef: 0.001\n",
      "lamcoef: 0.005\n",
      "lamcoef: 0.01\n",
      "lamcoef: 0.05\n",
      "lamcoef: 0.1\n",
      "lamcoef: 0.5\n",
      "lamcoef: 1.0\n",
      "lamcoef: 2.0\n"
     ]
    }
   ],
   "source": [
    "search=np.array([0.0001, 0.0005, 0.001, 0.005, 0.01, 0.05, 0.1, 0.5, 1, 2])\n",
    "\n",
    "training_loss=[]\n",
    "num_nonzero=[]\n",
    "avg_weightsize=[]\n",
    "training_rmse=[]\n",
    "test_rmse=[]\n",
    "\n",
    "for i in range(len(search)):\n",
    "    print(\"lamcoef:\",search[i])\n",
    "    mlo=mylasso(lamcoef=search[i])\n",
    "    mlo.fit(X_train, Y_train)\n",
    "    training_loss.append(mlo.training_loss)\n",
    "    num_nonzero.append(np.count_nonzero(mlo.weight[1:]))\n",
    "    avg_weightsize.append(np.mean(np.absolute(mlo.weight[1:])))\n",
    "    ypred_train=mlo.predict(X_train)\n",
    "    training_rmse.append(mlo.CalRMSE(ypred_train,Y_train))\n",
    "    ypred_test = mlo.predict(X_test)\n",
    "    test_rmse.append(mlo.CalRMSE(ypred_test,Y_test))"
   ]
  },
  {
   "cell_type": "code",
   "execution_count": 14,
   "metadata": {},
   "outputs": [
    {
     "name": "stdout",
     "output_type": "stream",
     "text": [
      "Training Loss:\n",
      " [46.570461058906474, 46.5873788167258, 46.608460499968, 46.774656529614944, 46.97682568040409, 48.417389889743944, 49.88840410995367, 56.375688203274606, 59.889323719176424, 61.492131277099155]\n"
     ]
    },
    {
     "data": {
      "image/png": "[encoded data removed]",
      "text/plain": [
       "<Figure size 1080x360 with 2 Axes>"
      ]
     },
     "metadata": {
      "needs_background": "light"
     },
     "output_type": "display_data"
    }
   ],
   "source": [
    "print(\"Training Loss:\\n\",training_loss)\n",
    "\n",
    "plt.figure(figsize=(15,5))\n",
    "\n",
    "plt.subplot(1,2,1)\n",
    "plt.plot(search,training_loss)\n",
    "plt.title('Training_loss V.S. lambda')\n",
    "plt.ylabel('training_loss')\n",
    "plt.xlabel('lambda')\n",
    "\n",
    "plt.subplot(1,2,2)\n",
    "plt.plot(np.log10(search),training_loss)\n",
    "plt.title('Training_loss V.S. log10(lambda)')\n",
    "plt.ylabel('training_loss')\n",
    "plt.xlabel('log10(lambda)')\n",
    "\n",
    "plt.show()"
   ]
  },
  {
   "cell_type": "code",
   "execution_count": 15,
   "metadata": {},
   "outputs": [
    {
     "name": "stdout",
     "output_type": "stream",
     "text": [
      "Number of Nonzero Weights:\n",
      " [90, 90, 90, 89, 87, 76, 59, 16, 4, 1]\n"
     ]
    },
    {
     "data": {
      "image/png": "[encoded data removed]",
      "text/plain": [
       "<Figure size 1080x360 with 2 Axes>"
      ]
     },
     "metadata": {
      "needs_background": "light"
     },
     "output_type": "display_data"
    }
   ],
   "source": [
    "print(\"Number of Nonzero Weights:\\n\",num_nonzero)\n",
    "\n",
    "plt.figure(figsize=(15,5))\n",
    "\n",
    "plt.subplot(1,2,1)\n",
    "plt.plot(search,num_nonzero)\n",
    "plt.title('Number of Nonzero Weights V.S. lambda')\n",
    "plt.ylabel('training_loss')\n",
    "plt.xlabel('lambda')\n",
    "\n",
    "plt.subplot(1,2,2)\n",
    "plt.plot(np.log10(search),num_nonzero)\n",
    "plt.title('Number of Nonzero Weights V.S. log10(lambda)')\n",
    "plt.ylabel('Number of Nonzero Weights')\n",
    "plt.xlabel('log10(lambda)')\n",
    "\n",
    "plt.show()"
   ]
  },
  {
   "cell_type": "code",
   "execution_count": 16,
   "metadata": {},
   "outputs": [
    {
     "name": "stdout",
     "output_type": "stream",
     "text": [
      "Average Weight Size:\n",
      " [0.47065589275525677, 0.46950701556708546, 0.4679055680695399, 0.4557537198978956, 0.4429033229265547, 0.36397711030207547, 0.29489698206613213, 0.12003118917964033, 0.04217496765973307, 0.004265587910527286]\n"
     ]
    },
    {
     "data": {
      "image/png": "[encoded data removed]",
      "text/plain": [
       "<Figure size 1080x360 with 2 Axes>"
      ]
     },
     "metadata": {
      "needs_background": "light"
     },
     "output_type": "display_data"
    }
   ],
   "source": [
    "print(\"Average Weight Size:\\n\",avg_weightsize)\n",
    "\n",
    "plt.figure(figsize=(15,5))\n",
    "\n",
    "plt.subplot(1,2,1)\n",
    "plt.plot(search,avg_weightsize)\n",
    "plt.title('Average Weight Size V.S. lambda')\n",
    "plt.ylabel('Average Weight Size')\n",
    "plt.xlabel('lambda')\n",
    "\n",
    "plt.subplot(1,2,2)\n",
    "plt.plot(np.log10(search),avg_weightsize)\n",
    "plt.title('Average Weight Size V.S. log10(lambda)')\n",
    "plt.ylabel('Average Weight Size')\n",
    "plt.xlabel('log10(lambda)')\n",
    "\n",
    "plt.show()"
   ]
  },
  {
   "cell_type": "code",
   "execution_count": 17,
   "metadata": {},
   "outputs": [
    {
     "name": "stdout",
     "output_type": "stream",
     "text": [
      "Training RMSE:\n",
      " [9.650515546422552, 9.650518224533364, 9.650528379196835, 9.650861863653514, 9.651757631620283, 9.672589404434019, 9.71949908908463, 10.096958422236945, 10.591843713896125, 11.02037435418636]\n"
     ]
    },
    {
     "data": {
      "image/png": "[encoded data removed]",
      "text/plain": [
       "<Figure size 1080x360 with 2 Axes>"
      ]
     },
     "metadata": {
      "needs_background": "light"
     },
     "output_type": "display_data"
    }
   ],
   "source": [
    "print(\"Training RMSE:\\n\",training_rmse)\n",
    "\n",
    "plt.figure(figsize=(15,5))\n",
    "\n",
    "plt.subplot(1,2,1)\n",
    "plt.plot(search,training_rmse)\n",
    "plt.title('Training RMSE V.S. lambda')\n",
    "plt.ylabel('Training RMSE')\n",
    "plt.xlabel('lambda')\n",
    "\n",
    "plt.subplot(1,2,2)\n",
    "plt.plot(np.log10(search),training_rmse)\n",
    "plt.title('Training RMSE V.S. log10(lambda)')\n",
    "plt.ylabel('Training RMSE')\n",
    "plt.xlabel('log10(lambda)')\n",
    "\n",
    "plt.show()"
   ]
  },
  {
   "cell_type": "code",
   "execution_count": 18,
   "metadata": {},
   "outputs": [
    {
     "name": "stdout",
     "output_type": "stream",
     "text": [
      "Test RMSE:\n",
      " [9.644374072363343, 9.644091526385363, 9.64353855138658, 9.640063527594483, 9.63640781737698, 9.626433568849045, 9.648414790970712, 9.999130618162082, 10.474620633931153, 10.902614277773957]\n"
     ]
    },
    {
     "data": {
      "image/png": "[encoded data removed]",
      "text/plain": [
       "<Figure size 1080x360 with 2 Axes>"
      ]
     },
     "metadata": {
      "needs_background": "light"
     },
     "output_type": "display_data"
    }
   ],
   "source": [
    "print(\"Test RMSE:\\n\",test_rmse)\n",
    "\n",
    "plt.figure(figsize=(15,5))\n",
    "\n",
    "plt.subplot(1,2,1)\n",
    "plt.plot(search,test_rmse)\n",
    "plt.title('Test RMSE V.S. lambda')\n",
    "plt.ylabel('Test RMSE')\n",
    "plt.xlabel('lambda')\n",
    "\n",
    "plt.subplot(1,2,2)\n",
    "plt.plot(np.log10(search),test_rmse)\n",
    "plt.title('Test RMSE V.S. log10(lambda)')\n",
    "plt.ylabel('Test RMSE')\n",
    "plt.xlabel('log10(lambda)')\n",
    "\n",
    "plt.show()"
   ]
  },
  {
   "cell_type": "code",
   "execution_count": 19,
   "metadata": {},
   "outputs": [
    {
     "data": {
      "text/html": [
       "<div>\n",
       "<style scoped>\n",
       "    .dataframe tbody tr th:only-of-type {\n",
       "        vertical-align: middle;\n",
       "    }\n",
       "\n",
       "    .dataframe tbody tr th {\n",
       "        vertical-align: top;\n",
       "    }\n",
       "\n",
       "    .dataframe thead th {\n",
       "        text-align: right;\n",
       "    }\n",
       "</style>\n",
       "<table border=\"1\" class=\"dataframe\">\n",
       "  <thead>\n",
       "    <tr style=\"text-align: right;\">\n",
       "      <th></th>\n",
       "      <th>training_loss</th>\n",
       "      <th>num_nonzero</th>\n",
       "      <th>avg_weightsize</th>\n",
       "      <th>training_rmse</th>\n",
       "      <th>test_rmse</th>\n",
       "    </tr>\n",
       "  </thead>\n",
       "  <tbody>\n",
       "    <tr>\n",
       "      <th>0.0001</th>\n",
       "      <td>46.570461</td>\n",
       "      <td>90</td>\n",
       "      <td>0.470656</td>\n",
       "      <td>9.650516</td>\n",
       "      <td>9.644374</td>\n",
       "    </tr>\n",
       "    <tr>\n",
       "      <th>0.0005</th>\n",
       "      <td>46.587379</td>\n",
       "      <td>90</td>\n",
       "      <td>0.469507</td>\n",
       "      <td>9.650518</td>\n",
       "      <td>9.644092</td>\n",
       "    </tr>\n",
       "    <tr>\n",
       "      <th>0.001</th>\n",
       "      <td>46.608460</td>\n",
       "      <td>90</td>\n",
       "      <td>0.467906</td>\n",
       "      <td>9.650528</td>\n",
       "      <td>9.643539</td>\n",
       "    </tr>\n",
       "    <tr>\n",
       "      <th>0.005</th>\n",
       "      <td>46.774657</td>\n",
       "      <td>89</td>\n",
       "      <td>0.455754</td>\n",
       "      <td>9.650862</td>\n",
       "      <td>9.640064</td>\n",
       "    </tr>\n",
       "    <tr>\n",
       "      <th>0.01</th>\n",
       "      <td>46.976826</td>\n",
       "      <td>87</td>\n",
       "      <td>0.442903</td>\n",
       "      <td>9.651758</td>\n",
       "      <td>9.636408</td>\n",
       "    </tr>\n",
       "    <tr>\n",
       "      <th>0.05</th>\n",
       "      <td>48.417390</td>\n",
       "      <td>76</td>\n",
       "      <td>0.363977</td>\n",
       "      <td>9.672589</td>\n",
       "      <td>9.626434</td>\n",
       "    </tr>\n",
       "    <tr>\n",
       "      <th>0.1</th>\n",
       "      <td>49.888404</td>\n",
       "      <td>59</td>\n",
       "      <td>0.294897</td>\n",
       "      <td>9.719499</td>\n",
       "      <td>9.648415</td>\n",
       "    </tr>\n",
       "    <tr>\n",
       "      <th>0.5</th>\n",
       "      <td>56.375688</td>\n",
       "      <td>16</td>\n",
       "      <td>0.120031</td>\n",
       "      <td>10.096958</td>\n",
       "      <td>9.999131</td>\n",
       "    </tr>\n",
       "    <tr>\n",
       "      <th>1</th>\n",
       "      <td>59.889324</td>\n",
       "      <td>4</td>\n",
       "      <td>0.042175</td>\n",
       "      <td>10.591844</td>\n",
       "      <td>10.474621</td>\n",
       "    </tr>\n",
       "    <tr>\n",
       "      <th>2</th>\n",
       "      <td>61.492131</td>\n",
       "      <td>1</td>\n",
       "      <td>0.004266</td>\n",
       "      <td>11.020374</td>\n",
       "      <td>10.902614</td>\n",
       "    </tr>\n",
       "  </tbody>\n",
       "</table>\n",
       "</div>"
      ],
      "text/plain": [
       "        training_loss  num_nonzero  avg_weightsize  training_rmse  test_rmse\n",
       "0.0001      46.570461           90        0.470656       9.650516   9.644374\n",
       "0.0005      46.587379           90        0.469507       9.650518   9.644092\n",
       "0.001       46.608460           90        0.467906       9.650528   9.643539\n",
       "0.005       46.774657           89        0.455754       9.650862   9.640064\n",
       "0.01        46.976826           87        0.442903       9.651758   9.636408\n",
       "0.05        48.417390           76        0.363977       9.672589   9.626434\n",
       "0.1         49.888404           59        0.294897       9.719499   9.648415\n",
       "0.5         56.375688           16        0.120031      10.096958   9.999131\n",
       "1           59.889324            4        0.042175      10.591844  10.474621\n",
       "2           61.492131            1        0.004266      11.020374  10.902614"
      ]
     },
     "execution_count": 19,
     "metadata": {},
     "output_type": "execute_result"
    }
   ],
   "source": [
    "import pandas as pd\n",
    "\n",
    "indexstring=['0.0001', '0.0005', '0.001', '0.005', '0.01', '0.05', '0.1', '0.5', '1', '2']\n",
    "\n",
    "df1=pd.DataFrame (training_loss, columns = ['training_loss'],index=indexstring)\n",
    "df2=pd.DataFrame (num_nonzero, columns = ['num_nonzero'],index=indexstring)\n",
    "df3=pd.DataFrame (avg_weightsize, columns = ['avg_weightsize'],index=indexstring)\n",
    "df4=pd.DataFrame (training_rmse, columns = ['training_rmse'],index=indexstring)\n",
    "df5=pd.DataFrame (test_rmse, columns = ['test_rmse'],index=indexstring)\n",
    "\n",
    "df_inner=df1.merge(df2,how='inner',left_index=True,right_index=True)\n",
    "df_inner=df_inner.merge(df3,how='inner',left_index=True,right_index=True)\n",
    "df_inner=df_inner.merge(df4,how='inner',left_index=True,right_index=True)\n",
    "df_inner=df_inner.merge(df5,how='inner',left_index=True,right_index=True)\n",
    "df_inner"
   ]
  },
  {
   "cell_type": "markdown",
   "metadata": {},
   "source": [
    "說明：\n",
    "1. lamcoef的增加壓縮了係數，限制係數不可以太大。\n",
    "2. 若是看Average Weight Size和Number of Nonzero Weights，可以發現隨著lamcoef越來越大，Average Weight Size就越來越小，Number of Nonzero Weights也越來越少，最後到了lamcoef為1或2的時候，各feature的係數都變得很小，甚至只剩少數係數不為0。\n",
    "3. 從rmse來看，lambda大概在超過0.1之後，rmse開始大幅度的增加（從取log後的折線圖看會更明顯）。\n",
    "4. 當lamcoef小於0.001時，因為lamcoef太小，所以沒有係數被設為0，沒有發揮太多lasso的功用。"
   ]
  }
 ],
 "metadata": {
  "kernelspec": {
   "display_name": "Python 3",
   "language": "python",
   "name": "python3"
  },
  "language_info": {
   "codemirror_mode": {
    "name": "ipython",
    "version": 3
   },
   "file_extension": ".py",
   "mimetype": "text/x-python",
   "name": "python",
   "nbconvert_exporter": "python",
   "pygments_lexer": "ipython3",
   "version": "3.8.3"
  }
 },
 "nbformat": 4,
 "nbformat_minor": 2
}
